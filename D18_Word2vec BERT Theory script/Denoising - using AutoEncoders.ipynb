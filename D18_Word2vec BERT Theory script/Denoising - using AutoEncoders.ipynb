{
 "cells": [
  {
   "cell_type": "markdown",
   "id": "1fb05924",
   "metadata": {},
   "source": [
    "# 1. Import Necessary libraries"
   ]
  },
  {
   "cell_type": "code",
   "execution_count": 5,
   "id": "590166ae",
   "metadata": {},
   "outputs": [],
   "source": [
    "from keras.datasets import mnist\n",
    "from keras.layers import Dense,Conv2D,MaxPooling2D,UpSampling2D\n",
    "from keras.models import Sequential\n",
    "\n",
    "import numpy as np\n",
    "from matplotlib import pyplot as plt"
   ]
  },
  {
   "cell_type": "markdown",
   "id": "c787c388",
   "metadata": {},
   "source": [
    "## 2. Import Dataset"
   ]
  },
  {
   "cell_type": "code",
   "execution_count": 6,
   "id": "feb2896d",
   "metadata": {},
   "outputs": [],
   "source": [
    "(X_train,_),(X_test,_) = mnist.load_data()"
   ]
  },
  {
   "cell_type": "markdown",
   "id": "8bdb1d9e",
   "metadata": {},
   "source": [
    "## 3. Data Understanding"
   ]
  },
  {
   "cell_type": "code",
   "execution_count": 7,
   "id": "8fe8eff6",
   "metadata": {},
   "outputs": [
    {
     "data": {
      "text/plain": [
       "((60000, 28, 28), (10000, 28, 28))"
      ]
     },
     "execution_count": 7,
     "metadata": {},
     "output_type": "execute_result"
    }
   ],
   "source": [
    "X_train.shape,X_test.shape"
   ]
  },
  {
   "cell_type": "markdown",
   "id": "4e542b34",
   "metadata": {},
   "source": [
    "## 4. Data Preprocessing"
   ]
  },
  {
   "cell_type": "code",
   "execution_count": 8,
   "id": "e57fef83",
   "metadata": {},
   "outputs": [],
   "source": [
    "X_train = X_train.astype('float')/255\n",
    "X_test  = X_test.astype('float')/255"
   ]
  },
  {
   "cell_type": "code",
   "execution_count": 9,
   "id": "ec9b2792",
   "metadata": {},
   "outputs": [
    {
     "data": {
      "text/plain": [
       "((60000, 28, 28, 1), (10000, 28, 28, 1))"
      ]
     },
     "execution_count": 9,
     "metadata": {},
     "output_type": "execute_result"
    }
   ],
   "source": [
    "X_train_reshaped = np.reshape(a = X_train,newshape = (60000, 28, 28,1))\n",
    "X_test_reshaped = np.reshape(a = X_test,newshape  = (10000, 28, 28,1))\n",
    "X_train_reshaped.shape,X_test_reshaped.shape"
   ]
  },
  {
   "cell_type": "markdown",
   "id": "0318369a",
   "metadata": {},
   "source": [
    "### NOTE: \n",
    "\n",
    "**Add some noises to these train and test images for Noise reduction using Encoder and Decoder blocks.**"
   ]
  },
  {
   "cell_type": "markdown",
   "id": "feafcc35",
   "metadata": {},
   "source": [
    "### Before Adding Noise"
   ]
  },
  {
   "cell_type": "code",
   "execution_count": 21,
   "id": "93bda659",
   "metadata": {},
   "outputs": [
    {
     "data": {
      "image/png": "[encoded data removed]",
      "text/plain": [
       "<Figure size 432x288 with 1 Axes>"
      ]
     },
     "metadata": {
      "needs_background": "light"
     },
     "output_type": "display_data"
    }
   ],
   "source": [
    "plt.imshow(X_train[0],cmap = 'gray')\n",
    "plt.show()"
   ]
  },
  {
   "cell_type": "markdown",
   "id": "d6083d79",
   "metadata": {},
   "source": [
    "### Step1 : Add Noise"
   ]
  },
  {
   "cell_type": "code",
   "execution_count": 37,
   "id": "5d8caee7",
   "metadata": {},
   "outputs": [],
   "source": [
    "X_train_noisy = X_train_reshaped + 0.2 * np.random.normal(loc = 0.0,scale = 1.0, size = (60000,28,28,1))\n",
    "X_test_noisy = X_test_reshaped  + 0.2 * np.random.normal(loc = 0.0,scale = 1.0, size  = (10000,28,28,1))"
   ]
  },
  {
   "cell_type": "code",
   "execution_count": 25,
   "id": "b2a0d4ff",
   "metadata": {},
   "outputs": [
    {
     "data": {
      "image/png": "[encoded data removed]",
      "text/plain": [
       "<Figure size 432x288 with 1 Axes>"
      ]
     },
     "metadata": {
      "needs_background": "light"
     },
     "output_type": "display_data"
    }
   ],
   "source": [
    "plt.imshow(X_train_noisy[0],cmap = 'gray')\n",
    "plt.show()"
   ]
  },
  {
   "cell_type": "markdown",
   "id": "feb03442",
   "metadata": {},
   "source": [
    "### Step2: Clip your image"
   ]
  },
  {
   "cell_type": "code",
   "execution_count": 41,
   "id": "14df5580",
   "metadata": {},
   "outputs": [],
   "source": [
    "X_train_clipped = np.clip(a = X_train_noisy, a_min = 0, a_max =3)\n",
    "X_test_clipped  = np.clip(a = X_test_noisy,  a_min = 0, a_max =3)"
   ]
  },
  {
   "cell_type": "code",
   "execution_count": 39,
   "id": "5c1b7f49",
   "metadata": {},
   "outputs": [
    {
     "data": {
      "image/png": "[encoded data removed]",
      "text/plain": [
       "<Figure size 432x288 with 1 Axes>"
      ]
     },
     "metadata": {
      "needs_background": "light"
     },
     "output_type": "display_data"
    }
   ],
   "source": [
    "plt.imshow(X_train_clipped[0],cmap = 'gray')\n",
    "plt.show()"
   ]
  },
  {
   "cell_type": "markdown",
   "id": "add9ccd1",
   "metadata": {},
   "source": [
    "## 5. Model Building"
   ]
  },
  {
   "cell_type": "markdown",
   "id": "f06a4ad5",
   "metadata": {},
   "source": [
    "### Encoding Architecture"
   ]
  },
  {
   "cell_type": "code",
   "execution_count": 56,
   "id": "1a507d25",
   "metadata": {},
   "outputs": [
    {
     "name": "stdout",
     "output_type": "stream",
     "text": [
      "Model: \"sequential_7\"\n",
      "_________________________________________________________________\n",
      " Layer (type)                Output Shape              Param #   \n",
      "=================================================================\n",
      " conv2d_41 (Conv2D)          (None, 28, 28, 32)        320       \n",
      "                                                                 \n",
      " max_pooling2d_18 (MaxPoolin  (None, 14, 14, 32)       0         \n",
      " g2D)                                                            \n",
      "                                                                 \n",
      " conv2d_42 (Conv2D)          (None, 14, 14, 8)         2312      \n",
      "                                                                 \n",
      " max_pooling2d_19 (MaxPoolin  (None, 7, 7, 8)          0         \n",
      " g2D)                                                            \n",
      "                                                                 \n",
      " conv2d_43 (Conv2D)          (None, 7, 7, 8)           584       \n",
      "                                                                 \n",
      " max_pooling2d_20 (MaxPoolin  (None, 4, 4, 8)          0         \n",
      " g2D)                                                            \n",
      "                                                                 \n",
      "=================================================================\n",
      "Total params: 3,216\n",
      "Trainable params: 3,216\n",
      "Non-trainable params: 0\n",
      "_________________________________________________________________\n"
     ]
    }
   ],
   "source": [
    "model = Sequential()\n",
    "model.add(Conv2D(input_shape=(28,28,1),filters = 32,kernel_size = (3,3),padding = 'same',strides = 1,activation = 'relu'))\n",
    "model.add(MaxPooling2D(pool_size = (2,2),strides = 2))\n",
    "model.add(Conv2D(filters = 8,kernel_size = (3,3),padding = 'same',strides = 1,activation = 'relu'))\n",
    "model.add(MaxPooling2D(pool_size = (2,2),strides = 2))\n",
    "model.add(Conv2D(filters = 8,kernel_size = (3,3),padding = 'same',strides = 1,activation = 'relu'))\n",
    "model.add(MaxPooling2D(pool_size = (2,2),strides = 2,padding = 'same'))\n",
    "model.summary()"
   ]
  },
  {
   "cell_type": "markdown",
   "id": "e6eac8ef",
   "metadata": {},
   "source": [
    "### Decoding Architecture"
   ]
  },
  {
   "cell_type": "code",
   "execution_count": 57,
   "id": "a34bd5c7",
   "metadata": {},
   "outputs": [
    {
     "name": "stdout",
     "output_type": "stream",
     "text": [
      "Model: \"sequential_7\"\n",
      "_________________________________________________________________\n",
      " Layer (type)                Output Shape              Param #   \n",
      "=================================================================\n",
      " conv2d_41 (Conv2D)          (None, 28, 28, 32)        320       \n",
      "                                                                 \n",
      " max_pooling2d_18 (MaxPoolin  (None, 14, 14, 32)       0         \n",
      " g2D)                                                            \n",
      "                                                                 \n",
      " conv2d_42 (Conv2D)          (None, 14, 14, 8)         2312      \n",
      "                                                                 \n",
      " max_pooling2d_19 (MaxPoolin  (None, 7, 7, 8)          0         \n",
      " g2D)                                                            \n",
      "                                                                 \n",
      " conv2d_43 (Conv2D)          (None, 7, 7, 8)           584       \n",
      "                                                                 \n",
      " max_pooling2d_20 (MaxPoolin  (None, 4, 4, 8)          0         \n",
      " g2D)                                                            \n",
      "                                                                 \n",
      " conv2d_44 (Conv2D)          (None, 4, 4, 8)           584       \n",
      "                                                                 \n",
      " up_sampling2d_21 (UpSamplin  (None, 8, 8, 8)          0         \n",
      " g2D)                                                            \n",
      "                                                                 \n",
      " conv2d_45 (Conv2D)          (None, 8, 8, 8)           584       \n",
      "                                                                 \n",
      " up_sampling2d_22 (UpSamplin  (None, 16, 16, 8)        0         \n",
      " g2D)                                                            \n",
      "                                                                 \n",
      " conv2d_46 (Conv2D)          (None, 14, 14, 32)        2336      \n",
      "                                                                 \n",
      " up_sampling2d_23 (UpSamplin  (None, 28, 28, 32)       0         \n",
      " g2D)                                                            \n",
      "                                                                 \n",
      " conv2d_47 (Conv2D)          (None, 28, 28, 1)         289       \n",
      "                                                                 \n",
      "=================================================================\n",
      "Total params: 7,009\n",
      "Trainable params: 7,009\n",
      "Non-trainable params: 0\n",
      "_________________________________________________________________\n"
     ]
    }
   ],
   "source": [
    "model.add(Conv2D(filters = 8,kernel_size = (3,3),padding = 'same',activation = 'relu'))\n",
    "model.add(UpSampling2D(size = (2,2)))\n",
    "model.add(Conv2D(filters = 8,kernel_size = (3,3),padding = 'same',activation = 'relu'))\n",
    "model.add(UpSampling2D(size = (2,2)))\n",
    "model.add(Conv2D(filters = 32,kernel_size = (3,3),activation = 'relu'))\n",
    "model.add(UpSampling2D(size = (2,2)))\n",
    "model.add(Conv2D(filters = 1,kernel_size = (3,3),activation = 'relu',padding = 'same'))\n",
    "model.summary()"
   ]
  },
  {
   "cell_type": "code",
   "execution_count": 58,
   "id": "769f677f",
   "metadata": {},
   "outputs": [],
   "source": [
    "model.compile(optimizer='rmsprop',loss=['mean_squared_error'])"
   ]
  },
  {
   "cell_type": "markdown",
   "id": "8261e1ce",
   "metadata": {},
   "source": [
    "## 6. Model Training"
   ]
  },
  {
   "cell_type": "code",
   "execution_count": 59,
   "id": "b586b0f7",
   "metadata": {},
   "outputs": [
    {
     "name": "stdout",
     "output_type": "stream",
     "text": [
      "Epoch 1/5\n",
      "1875/1875 [==============================] - 156s 82ms/step - loss: 0.0326 - val_loss: 0.0251\n",
      "Epoch 2/5\n",
      "1875/1875 [==============================] - 149s 80ms/step - loss: 0.0209 - val_loss: 0.0187\n",
      "Epoch 3/5\n",
      "1875/1875 [==============================] - 147s 78ms/step - loss: 0.0181 - val_loss: 0.0158\n",
      "Epoch 4/5\n",
      "1875/1875 [==============================] - 140s 75ms/step - loss: 0.0166 - val_loss: 0.0147\n",
      "Epoch 5/5\n",
      "1875/1875 [==============================] - 137s 73ms/step - loss: 0.0155 - val_loss: 0.0140\n"
     ]
    },
    {
     "data": {
      "text/plain": [
       "<keras.callbacks.History at 0x22fcde46c40>"
      ]
     },
     "execution_count": 59,
     "metadata": {},
     "output_type": "execute_result"
    }
   ],
   "source": [
    "model.fit(x=X_train_clipped,y=X_train,epochs=5, batch_size=32, validation_data=(X_test_clipped, X_test))"
   ]
  },
  {
   "cell_type": "markdown",
   "id": "ae807aee",
   "metadata": {},
   "source": [
    "## 7. Model Evaluation"
   ]
  },
  {
   "cell_type": "code",
   "execution_count": 60,
   "id": "d5f47fd0",
   "metadata": {},
   "outputs": [
    {
     "name": "stdout",
     "output_type": "stream",
     "text": [
      "313/313 [==============================] - 6s 18ms/step - loss: 0.0154\n"
     ]
    },
    {
     "data": {
      "text/plain": [
       "0.015358268283307552"
      ]
     },
     "execution_count": 60,
     "metadata": {},
     "output_type": "execute_result"
    }
   ],
   "source": [
    "model.evaluate(X_test_noisy,X_test)"
   ]
  },
  {
   "cell_type": "markdown",
   "id": "96e346b5",
   "metadata": {},
   "source": [
    "## 8. Model Prediction"
   ]
  },
  {
   "cell_type": "code",
   "execution_count": 61,
   "id": "2b90020a",
   "metadata": {},
   "outputs": [],
   "source": [
    "y_pred = model.predict(X_test_noisy)"
   ]
  },
  {
   "cell_type": "code",
   "execution_count": 63,
   "id": "a76d0d31",
   "metadata": {},
   "outputs": [
    {
     "data": {
      "image/png": "[encoded data removed]",
      "text/plain": [
       "<Figure size 432x288 with 1 Axes>"
      ]
     },
     "metadata": {
      "needs_background": "light"
     },
     "output_type": "display_data"
    }
   ],
   "source": [
    "plt.imshow(X_test_clipped[5000],cmap = 'gray')\n",
    "plt.show()"
   ]
  },
  {
   "cell_type": "code",
   "execution_count": 64,
   "id": "1307490b",
   "metadata": {},
   "outputs": [
    {
     "data": {
      "image/png": "[encoded data removed]",
      "text/plain": [
       "<Figure size 432x288 with 1 Axes>"
      ]
     },
     "metadata": {
      "needs_background": "light"
     },
     "output_type": "display_data"
    }
   ],
   "source": [
    "plt.imshow(y_pred[5000],cmap = 'gray')\n",
    "plt.show()"
   ]
  },
  {
   "cell_type": "markdown",
   "id": "f78acf6d",
   "metadata": {},
   "source": [
    "## 8. Model Deployement"
   ]
  },
  {
   "cell_type": "code",
   "execution_count": 65,
   "id": "28341792",
   "metadata": {},
   "outputs": [],
   "source": [
    "model.save('Denoising_images.h5')"
   ]
  },
  {
   "cell_type": "markdown",
   "id": "a42b1a0f",
   "metadata": {},
   "source": [
    "## THE END!!"
   ]
  }
 ],
 "metadata": {
  "kernelspec": {
   "display_name": "Python 3",
   "language": "python",
   "name": "python3"
  },
  "language_info": {
   "codemirror_mode": {
    "name": "ipython",
    "version": 3
   },
   "file_extension": ".py",
   "mimetype": "text/x-python",
   "name": "python",
   "nbconvert_exporter": "python",
   "pygments_lexer": "ipython3",
   "version": "3.8.8"
  }
 },
 "nbformat": 4,
 "nbformat_minor": 5
}
