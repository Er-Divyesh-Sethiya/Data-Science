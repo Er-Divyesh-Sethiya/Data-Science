{
  "nbformat": 4,
  "nbformat_minor": 0,
  "metadata": {
    "colab": {
      "name": "word2vec_task.ipynb",
      "provenance": []
    },
    "kernelspec": {
      "name": "python3",
      "display_name": "Python 3"
    },
    "language_info": {
      "name": "python"
    }
  },
  "cells": [
    {
      "cell_type": "code",
      "source": [
        "# There are two algorithms to generate the encoding \n",
        "#which are continuous bag-of-words approach and skip-gram."
      ],
      "metadata": {
        "id": "38RrIH6VTIDK"
      },
      "execution_count": 12,
      "outputs": []
    },
    {
      "cell_type": "code",
      "source": [
        "# Word embedding is capable of capturing the meaning of a word in a document\n"
      ],
      "metadata": {
        "id": "CvUfHIPUTHr-"
      },
      "execution_count": 13,
      "outputs": []
    },
    {
      "cell_type": "code",
      "source": [
        "# The major difference between these two methods is that CBOW is using context to predict a target word \n",
        "# while skip-gram is using a word to predict a target contex"
      ],
      "metadata": {
        "id": "eCb0HbROTHDR"
      },
      "execution_count": 14,
      "outputs": []
    },
    {
      "cell_type": "code",
      "execution_count": 15,
      "metadata": {
        "id": "jAqzwXFLz7yu"
      },
      "outputs": [],
      "source": [
        "#Importing Necessary libraries\n",
        "from gensim.models import Word2Vec"
      ]
    },
    {
      "cell_type": "code",
      "source": [
        "# define training data for training\n",
        "sentences = [['If','you','can','Dream','it','you','can','do','it'],\n",
        "\t\t\t['Do','good','for','others','it','wil','come','back','in','unexpected','ways'],\n",
        "\t\t\t['Being','happy','never','goes','out','of','style']]"
      ],
      "metadata": {
        "id": "-Vzqr5hLKou_"
      },
      "execution_count": 17,
      "outputs": []
    },
    {
      "cell_type": "code",
      "source": [
        "# train Word2vec model\n",
        "model = Word2Vec(sentences, min_count=1)"
      ],
      "metadata": {
        "id": "XvALh4OoOZ7F"
      },
      "execution_count": 18,
      "outputs": []
    },
    {
      "cell_type": "code",
      "source": [
        "# summarize the loaded model\n",
        "print(model)"
      ],
      "metadata": {
        "colab": {
          "base_uri": "https://localhost:8080/",
          "height": 0
        },
        "id": "bq735xwSOguF",
        "outputId": "d846d7d9-614c-46e5-cf8b-e2a60ab43042"
      },
      "execution_count": 19,
      "outputs": [
        {
          "output_type": "stream",
          "name": "stdout",
          "text": [
            "Word2Vec(vocab=23, size=100, alpha=0.025)\n"
          ]
        }
      ]
    },
    {
      "cell_type": "code",
      "source": [
        "# summarize vocabulary\n",
        "words = list(model.wv.vocab)\n",
        "print(words)"
      ],
      "metadata": {
        "colab": {
          "base_uri": "https://localhost:8080/",
          "height": 0
        },
        "id": "B93T4Jf-OlPF",
        "outputId": "69c69adf-2267-4692-a81e-be5ea34b9e7d"
      },
      "execution_count": 20,
      "outputs": [
        {
          "output_type": "stream",
          "name": "stdout",
          "text": [
            "['If', 'you', 'can', 'Dream', 'it', 'do', 'Do', 'good', 'for', 'others', 'wil', 'come', 'back', 'in', 'unexpected', 'ways', 'Being', 'happy', 'never', 'goes', 'out', 'of', 'style']\n"
          ]
        }
      ]
    },
    {
      "cell_type": "code",
      "source": [
        "# access vector for one word\n",
        "print(model['Dream'])"
      ],
      "metadata": {
        "colab": {
          "base_uri": "https://localhost:8080/",
          "height": 0
        },
        "id": "bMlbLdMKOp8k",
        "outputId": "d81a026d-4c31-4f5b-8129-d656ca6720e8"
      },
      "execution_count": 22,
      "outputs": [
        {
          "output_type": "stream",
          "name": "stdout",
          "text": [
            "[ 3.0253662e-03 -1.3432890e-03  1.2912854e-03 -3.4285267e-03\n",
            " -1.1377000e-03  2.0361263e-03 -2.5814923e-03 -3.1653293e-03\n",
            " -1.0489309e-03  4.8722196e-03  2.9874002e-03 -3.4367661e-03\n",
            "  2.6268996e-03  4.6624118e-03 -1.2979153e-05 -2.4593479e-05\n",
            " -5.3022651e-04  1.3320831e-03 -5.1661336e-04 -3.8481287e-03\n",
            " -3.4147242e-04 -3.3644112e-03  9.8442787e-04  1.8820389e-03\n",
            " -7.7782443e-04 -1.7262670e-03  2.3643770e-03  2.3509746e-03\n",
            " -3.6481717e-03 -4.2547467e-03  3.2498499e-03  4.1324729e-03\n",
            " -4.4381553e-03 -2.6873418e-03  4.3552811e-03 -3.8146037e-03\n",
            "  2.1956821e-03 -3.5752592e-04 -4.3695918e-03 -1.3946121e-03\n",
            "  2.7980346e-03  2.0166188e-03  6.5367101e-05  4.2499751e-03\n",
            " -7.1870792e-04 -4.4963271e-03 -1.1846480e-03  3.4977961e-03\n",
            "  7.7048317e-04 -5.5201381e-04  2.0204773e-03  4.0439581e-03\n",
            "  1.5268226e-03  3.1332551e-03 -4.1789412e-03 -4.8815198e-03\n",
            " -4.6751183e-03  1.7432156e-03 -4.7567291e-03  3.9960882e-03\n",
            " -4.5804097e-03 -1.3296915e-03 -5.5710331e-04  1.8484000e-03\n",
            " -2.1507868e-03  7.3370925e-04  3.2741171e-03  3.6507032e-03\n",
            " -3.1247507e-03 -1.7436408e-04 -4.2065205e-03 -2.3679881e-04\n",
            "  3.5088344e-03  2.1417744e-03 -4.7443942e-03 -1.6277131e-03\n",
            "  1.0434102e-03  1.7631192e-03  2.9742878e-03 -4.6072649e-03\n",
            "  4.0476109e-04 -2.4135364e-03  3.9209123e-03  4.2520892e-03\n",
            " -3.6401025e-03 -2.5531116e-03 -2.8769267e-03 -1.1258739e-03\n",
            "  4.3480042e-03  8.3671272e-04 -1.2499117e-03 -8.6016749e-04\n",
            " -3.4330334e-03 -1.1608950e-03  4.4169385e-05 -3.4395985e-03\n",
            " -3.3203552e-03  4.1605774e-03 -1.6619961e-03 -2.4708731e-03]\n"
          ]
        },
        {
          "output_type": "stream",
          "name": "stderr",
          "text": [
            "/usr/local/lib/python3.7/dist-packages/ipykernel_launcher.py:2: DeprecationWarning: Call to deprecated `__getitem__` (Method will be removed in 4.0.0, use self.wv.__getitem__() instead).\n",
            "  \n"
          ]
        }
      ]
    },
    {
      "cell_type": "code",
      "source": [
        "# save model\n",
        "model.save('model.bin')"
      ],
      "metadata": {
        "id": "1L-nwF0QOxzg"
      },
      "execution_count": 23,
      "outputs": []
    },
    {
      "cell_type": "code",
      "source": [
        "# load model\n",
        "new_model = Word2Vec.load('model.bin')\n",
        "print(new_model)"
      ],
      "metadata": {
        "colab": {
          "base_uri": "https://localhost:8080/",
          "height": 0
        },
        "id": "1BfBzkPbO1K8",
        "outputId": "72435558-81ca-4609-baa0-a30e35486db9"
      },
      "execution_count": 24,
      "outputs": [
        {
          "output_type": "stream",
          "name": "stdout",
          "text": [
            "Word2Vec(vocab=23, size=100, alpha=0.025)\n"
          ]
        }
      ]
    },
    {
      "cell_type": "code",
      "source": [
        "from gensim.models import KeyedVectors\n",
        "filename = '/content/drive/MyDrive/NLP/GoogleNews-vectors-negative300.bin'\n",
        "model = KeyedVectors.load_word2vec_format(filename, binary=True)"
      ],
      "metadata": {
        "id": "zOKnQ5kwPFjd"
      },
      "execution_count": 25,
      "outputs": []
    },
    {
      "cell_type": "code",
      "source": [
        "# Now we could even use Word2vec to compute the similarity between two Make Models in the vocabulary by invoking the model.\n",
        "# similarity( ) and passing in the relevant words."
      ],
      "metadata": {
        "id": "lg9lIOmPWujN"
      },
      "execution_count": null,
      "outputs": []
    },
    {
      "cell_type": "code",
      "source": [
        "result = model.most_similar(['good'])\n",
        "print(result)"
      ],
      "metadata": {
        "colab": {
          "base_uri": "https://localhost:8080/",
          "height": 0
        },
        "id": "pspP6tA-QGo_",
        "outputId": "54f3d7af-a31f-41f7-b803-331c0dd4cc39"
      },
      "execution_count": 27,
      "outputs": [
        {
          "output_type": "stream",
          "name": "stdout",
          "text": [
            "[('great', 0.7291510105133057), ('bad', 0.7190051078796387), ('terrific', 0.6889115571975708), ('decent', 0.6837348937988281), ('nice', 0.6836092472076416), ('excellent', 0.644292950630188), ('fantastic', 0.6407778263092041), ('better', 0.6120728254318237), ('solid', 0.5806034803390503), ('lousy', 0.5764201879501343)]\n"
          ]
        }
      ]
    },
    {
      "cell_type": "code",
      "source": [
        "result = model.most_similar(['happy'])\n",
        "print(result)"
      ],
      "metadata": {
        "colab": {
          "base_uri": "https://localhost:8080/",
          "height": 0
        },
        "id": "WVD4Q0ONYFli",
        "outputId": "474f4a76-ec10-4c73-c5b8-e2b1ccb347b1"
      },
      "execution_count": 28,
      "outputs": [
        {
          "output_type": "stream",
          "name": "stdout",
          "text": [
            "[('glad', 0.7408890128135681), ('pleased', 0.6632171273231506), ('ecstatic', 0.6626912355422974), ('overjoyed', 0.6599286794662476), ('thrilled', 0.6514049768447876), ('satisfied', 0.6437950134277344), ('proud', 0.636042058467865), ('delighted', 0.627237856388092), ('disappointed', 0.6269949674606323), ('excited', 0.6247666478157043)]\n"
          ]
        }
      ]
    },
    {
      "cell_type": "code",
      "source": [
        "result = model.most_similar(['style'])\n",
        "print(result)"
      ],
      "metadata": {
        "colab": {
          "base_uri": "https://localhost:8080/",
          "height": 0
        },
        "id": "_dSpYS4rYWVR",
        "outputId": "aa359f22-a381-4ce5-b8a3-20764633e1a7"
      },
      "execution_count": 29,
      "outputs": [
        {
          "output_type": "stream",
          "name": "stdout",
          "text": [
            "[('styles', 0.6399438381195068), ('flair', 0.6104061603546143), ('syle', 0.6024925708770752), ('styled', 0.5924667119979858), ('stylings', 0.5438728928565979), ('sytle', 0.5342130064964294), ('size_##px', 0.5333694219589233), ('sensibility', 0.5221041440963745), ('elegance', 0.5098029971122742), ('finesse', 0.5066273808479309)]\n"
          ]
        }
      ]
    },
    {
      "cell_type": "code",
      "source": [
        ""
      ],
      "metadata": {
        "id": "nkh_98X4Yd6E"
      },
      "execution_count": null,
      "outputs": []
    }
  ]
}