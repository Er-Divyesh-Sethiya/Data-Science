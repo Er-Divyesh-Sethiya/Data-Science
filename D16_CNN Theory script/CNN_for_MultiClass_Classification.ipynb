{
 "cells": [
  {
   "cell_type": "markdown",
   "id": "4bef9b33",
   "metadata": {},
   "source": [
    "# 1. Import Necessary libraries"
   ]
  },
  {
   "cell_type": "code",
   "execution_count": 1,
   "id": "e3e4344e",
   "metadata": {},
   "outputs": [],
   "source": [
    "from keras.models import Sequential\n",
    "from keras.layers import Flatten,Dense,Conv2D,MaxPool2D"
   ]
  },
  {
   "cell_type": "markdown",
   "id": "6b587496",
   "metadata": {},
   "source": [
    "# 2. Import Dataset || 3. Data Preparation"
   ]
  },
  {
   "cell_type": "code",
   "execution_count": 2,
   "id": "1b05b0c7",
   "metadata": {},
   "outputs": [],
   "source": [
    "from keras.preprocessing.image import ImageDataGenerator"
   ]
  },
  {
   "cell_type": "code",
   "execution_count": 3,
   "id": "7857740a",
   "metadata": {},
   "outputs": [],
   "source": [
    "train_data = ImageDataGenerator(rescale=1/255,shear_range=0.2, zoom_range=0.2, horizontal_flip=True,vertical_flip=True)\n",
    "test_data  = ImageDataGenerator(rescale=1/255)"
   ]
  },
  {
   "cell_type": "code",
   "execution_count": 9,
   "id": "a7b68bca",
   "metadata": {},
   "outputs": [
    {
     "name": "stdout",
     "output_type": "stream",
     "text": [
      "Found 68 images belonging to 5 classes.\n",
      "Found 53 images belonging to 5 classes.\n"
     ]
    }
   ],
   "source": [
    "train_data_path = train_data.flow_from_directory(directory = r'D:\\DLCVNLP\\Parent',target_size=(64,64))\n",
    "test_data_path  = test_data.flow_from_directory(directory = r'D:\\DLCVNLP\\Validation_data', target_size=(64,64))"
   ]
  },
  {
   "cell_type": "code",
   "execution_count": 15,
   "id": "c4cc2069",
   "metadata": {},
   "outputs": [
    {
     "data": {
      "text/plain": [
       "{'iyan': 0, 'john': 1, 'mary': 2, 'superman': 3, 'suresh': 4}"
      ]
     },
     "execution_count": 15,
     "metadata": {},
     "output_type": "execute_result"
    }
   ],
   "source": [
    "train_data_path.class_indices"
   ]
  },
  {
   "cell_type": "markdown",
   "id": "44ab52c3",
   "metadata": {},
   "source": [
    "# 4. Model Building"
   ]
  },
  {
   "cell_type": "markdown",
   "id": "ef726ed3",
   "metadata": {},
   "source": [
    "## Step 1: Build the architecture"
   ]
  },
  {
   "cell_type": "code",
   "execution_count": 14,
   "id": "b68f4d3c",
   "metadata": {},
   "outputs": [
    {
     "name": "stdout",
     "output_type": "stream",
     "text": [
      "Model: \"sequential_6\"\n",
      "_________________________________________________________________\n",
      " Layer (type)                Output Shape              Param #   \n",
      "=================================================================\n",
      " conv2d_5 (Conv2D)           (None, 64, 64, 6)         168       \n",
      "                                                                 \n",
      " max_pooling2d_4 (MaxPooling  (None, 32, 32, 6)        0         \n",
      " 2D)                                                             \n",
      "                                                                 \n",
      " flatten_1 (Flatten)         (None, 6144)              0         \n",
      "                                                                 \n",
      " dense (Dense)               (None, 60)                368700    \n",
      "                                                                 \n",
      " dense_1 (Dense)             (None, 5)                 305       \n",
      "                                                                 \n",
      "=================================================================\n",
      "Total params: 369,173\n",
      "Trainable params: 369,173\n",
      "Non-trainable params: 0\n",
      "_________________________________________________________________\n"
     ]
    }
   ],
   "source": [
    "model = Sequential()\n",
    "model.add(Conv2D(input_shape = (64,64,3),filters = 6,kernel_size = (3,3),strides = 1,padding = 'same',activation = 'relu'))\n",
    "model.add(MaxPool2D(pool_size = (2,2),strides = 2))\n",
    "# model.add(Conv2D(filters = 16,kernel_size = (3,3),strides = 1,padding = 'same',activation = 'relu'))\n",
    "# model.add(MaxPool2D(pool_size = (2,2),strides = 2))\n",
    "model.add(Flatten())\n",
    "model.add(Dense(units = 60,activation = 'relu'))\n",
    "model.add(Dense(units = 5,activation = 'softmax'))\n",
    "model.summary()"
   ]
  },
  {
   "cell_type": "markdown",
   "id": "c7f737c8",
   "metadata": {},
   "source": [
    "## Step 2: Compile your model"
   ]
  },
  {
   "cell_type": "code",
   "execution_count": 18,
   "id": "864e641e",
   "metadata": {},
   "outputs": [],
   "source": [
    "model.compile( optimizer='adam',loss='categorical_crossentropy', metrics='accuracy')"
   ]
  },
  {
   "cell_type": "markdown",
   "id": "d9f54364",
   "metadata": {},
   "source": [
    "# 5. Model Training"
   ]
  },
  {
   "cell_type": "code",
   "execution_count": 19,
   "id": "51e4d4b1",
   "metadata": {},
   "outputs": [
    {
     "name": "stdout",
     "output_type": "stream",
     "text": [
      "Epoch 1/5\n",
      "3/3 [==============================] - 61s 28s/step - loss: 1.6178 - accuracy: 0.2206 - val_loss: 1.8106 - val_accuracy: 0.1321\n",
      "Epoch 2/5\n",
      "3/3 [==============================] - 54s 26s/step - loss: 1.4906 - accuracy: 0.4412 - val_loss: 2.1118 - val_accuracy: 0.1321\n",
      "Epoch 3/5\n",
      "3/3 [==============================] - 48s 16s/step - loss: 1.4466 - accuracy: 0.4412 - val_loss: 2.5632 - val_accuracy: 0.1321\n",
      "Epoch 4/5\n",
      "3/3 [==============================] - 49s 24s/step - loss: 1.4480 - accuracy: 0.4412 - val_loss: 2.4213 - val_accuracy: 0.1321\n",
      "Epoch 5/5\n",
      "3/3 [==============================] - 52s 19s/step - loss: 1.4266 - accuracy: 0.4412 - val_loss: 2.0942 - val_accuracy: 0.1321\n"
     ]
    }
   ],
   "source": [
    "train_model = model.fit(x=train_data_path,epochs=5,validation_data=test_data_path)"
   ]
  },
  {
   "cell_type": "code",
   "execution_count": 20,
   "id": "e8bc4547",
   "metadata": {},
   "outputs": [],
   "source": [
    "model.save('mc_5.h5')"
   ]
  },
  {
   "cell_type": "markdown",
   "id": "14f0fcde",
   "metadata": {},
   "source": [
    "# 6. Model Testing"
   ]
  },
  {
   "cell_type": "code",
   "execution_count": 21,
   "id": "c888eabe",
   "metadata": {},
   "outputs": [
    {
     "data": {
      "text/plain": [
       "{'iyan': 0, 'john': 1, 'mary': 2, 'superman': 3, 'suresh': 4}"
      ]
     },
     "execution_count": 21,
     "metadata": {},
     "output_type": "execute_result"
    }
   ],
   "source": [
    "train_data_path.class_indices"
   ]
  },
  {
   "cell_type": "code",
   "execution_count": 30,
   "id": "606a7b22",
   "metadata": {},
   "outputs": [
    {
     "name": "stdout",
     "output_type": "stream",
     "text": [
      "WARNING:tensorflow:6 out of the last 6 calls to <function Model.make_predict_function.<locals>.predict_function at 0x00000153D22C3CA0> triggered tf.function retracing. Tracing is expensive and the excessive number of tracings could be due to (1) creating @tf.function repeatedly in a loop, (2) passing tensors with different shapes, (3) passing Python objects instead of tensors. For (1), please define your @tf.function outside of the loop. For (2), @tf.function has experimental_relax_shapes=True option that relaxes argument shapes that can avoid unnecessary retracing. For (3), please refer to https://www.tensorflow.org/guide/function#controlling_retracing and https://www.tensorflow.org/api_docs/python/tf/function for  more details.\n",
      "john\n"
     ]
    }
   ],
   "source": [
    "# Part 3 - Making new predictions\n",
    "from keras.models import load_model\n",
    "import numpy as np\n",
    "from keras.preprocessing import image\n",
    "\n",
    "test_image = image.load_img(r'D:\\DLCVNLP\\Image_Test_Files\\suresh_test\\IMG_1859.JPG', target_size = (64,64,3))\n",
    "test_image = image.img_to_array(test_image)\n",
    "test_image = np.expand_dims(test_image, axis = 0)\n",
    "\n",
    "# load model\n",
    "model = load_model('mc_5.h5')\n",
    "result = model.predict(test_image)\n",
    "\n",
    "if result[0][0] == 1:\n",
    "    prediction = 'iyan'\n",
    "    print(prediction)\n",
    "\n",
    "elif result[0][1] ==1:\n",
    "    prediction = 'john'\n",
    "    print(prediction)\n",
    "    \n",
    "elif result[0][2]==1:\n",
    "    print(\"mary\")\n",
    "    \n",
    "elif result[0][3]==1:\n",
    "    print(\"superman\")\n",
    "    \n",
    "else:\n",
    "    print(\"suresh\")"
   ]
  },
  {
   "cell_type": "code",
   "execution_count": 25,
   "id": "5ae8fca1",
   "metadata": {},
   "outputs": [
    {
     "name": "stdout",
     "output_type": "stream",
     "text": [
      "[[0. 1. 0. 0. 0.]]\n"
     ]
    }
   ],
   "source": [
    "print(result)"
   ]
  }
 ],
 "metadata": {
  "kernelspec": {
   "display_name": "Python 3",
   "language": "python",
   "name": "python3"
  },
  "language_info": {
   "codemirror_mode": {
    "name": "ipython",
    "version": 3
   },
   "file_extension": ".py",
   "mimetype": "text/x-python",
   "name": "python",
   "nbconvert_exporter": "python",
   "pygments_lexer": "ipython3",
   "version": "3.8.8"
  }
 },
 "nbformat": 4,
 "nbformat_minor": 5
}
