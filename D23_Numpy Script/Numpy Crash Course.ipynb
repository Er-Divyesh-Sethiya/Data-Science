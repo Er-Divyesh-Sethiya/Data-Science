{
 "cells": [
  {
   "cell_type": "markdown",
   "id": "bd6e26d3",
   "metadata": {},
   "source": [
    "## Why Numpy?\n",
    "\n",
    "\n",
    "#### Is used for performing numerical operations like array addition, subtraction, multiplication, to create some random numbers, create dummy values, etc.,"
   ]
  },
  {
   "cell_type": "code",
   "execution_count": 1,
   "id": "1b83f517",
   "metadata": {},
   "outputs": [
    {
     "name": "stdout",
     "output_type": "stream",
     "text": [
      "Requirement already satisfied: numpy in c:\\programdata\\anaconda3\\lib\\site-packages (1.20.1)\n"
     ]
    }
   ],
   "source": [
    "!pip install numpy"
   ]
  },
  {
   "cell_type": "code",
   "execution_count": 2,
   "id": "efe992ac",
   "metadata": {},
   "outputs": [],
   "source": [
    "import numpy as np"
   ]
  },
  {
   "cell_type": "code",
   "execution_count": 6,
   "id": "230a9960",
   "metadata": {},
   "outputs": [
    {
     "data": {
      "text/plain": [
       "list"
      ]
     },
     "execution_count": 6,
     "metadata": {},
     "output_type": "execute_result"
    }
   ],
   "source": [
    "a = [1,2,3,4] #List\n",
    "type(a)"
   ]
  },
  {
   "cell_type": "code",
   "execution_count": 8,
   "id": "5e887138",
   "metadata": {},
   "outputs": [
    {
     "data": {
      "text/plain": [
       "array([1, 2, 3, 4])"
      ]
     },
     "execution_count": 8,
     "metadata": {},
     "output_type": "execute_result"
    }
   ],
   "source": [
    "arr_1 = np.array([1,2,3,4]) #Array\n",
    "arr_1"
   ]
  },
  {
   "cell_type": "code",
   "execution_count": 9,
   "id": "e7ff21bc",
   "metadata": {},
   "outputs": [
    {
     "data": {
      "text/plain": [
       "numpy.ndarray"
      ]
     },
     "execution_count": 9,
     "metadata": {},
     "output_type": "execute_result"
    }
   ],
   "source": [
    "type(arr_1)"
   ]
  },
  {
   "cell_type": "code",
   "execution_count": 19,
   "id": "a11ecd34",
   "metadata": {},
   "outputs": [
    {
     "data": {
      "text/plain": [
       "array(['1', '1.2', '1', '3', '5.6'], dtype='<U32')"
      ]
     },
     "execution_count": 19,
     "metadata": {},
     "output_type": "execute_result"
    }
   ],
   "source": [
    "arr_3 = np.array([1,1.2,1,3,'5.6'])\n",
    "arr_3"
   ]
  },
  {
   "cell_type": "code",
   "execution_count": 15,
   "id": "b7a6c973",
   "metadata": {},
   "outputs": [
    {
     "data": {
      "text/plain": [
       "array([1. , 1.2, 1. , 3. , 1. ])"
      ]
     },
     "execution_count": 15,
     "metadata": {},
     "output_type": "execute_result"
    }
   ],
   "source": [
    "arr_3 = np.array([1,1.2,1,3,1])\n",
    "arr_3"
   ]
  },
  {
   "cell_type": "code",
   "execution_count": 17,
   "id": "9efab3c7",
   "metadata": {},
   "outputs": [
    {
     "data": {
      "text/plain": [
       "[1, 2, 3, 4]"
      ]
     },
     "execution_count": 17,
     "metadata": {},
     "output_type": "execute_result"
    }
   ],
   "source": [
    "a"
   ]
  },
  {
   "cell_type": "code",
   "execution_count": 16,
   "id": "e51d8243",
   "metadata": {},
   "outputs": [
    {
     "ename": "TypeError",
     "evalue": "can only concatenate list (not \"int\") to list",
     "output_type": "error",
     "traceback": [
      "\u001b[1;31m---------------------------------------------------------------------------\u001b[0m",
      "\u001b[1;31mTypeError\u001b[0m                                 Traceback (most recent call last)",
      "\u001b[1;32m<ipython-input-16-ead3c2111b4d>\u001b[0m in \u001b[0;36m<module>\u001b[1;34m\u001b[0m\n\u001b[1;32m----> 1\u001b[1;33m \u001b[0ma\u001b[0m \u001b[1;33m+\u001b[0m \u001b[1;36m2\u001b[0m\u001b[1;33m\u001b[0m\u001b[1;33m\u001b[0m\u001b[0m\n\u001b[0m",
      "\u001b[1;31mTypeError\u001b[0m: can only concatenate list (not \"int\") to list"
     ]
    }
   ],
   "source": [
    "a + 2"
   ]
  },
  {
   "cell_type": "code",
   "execution_count": 18,
   "id": "c680504e",
   "metadata": {},
   "outputs": [
    {
     "data": {
      "text/plain": [
       "array([3. , 3.2, 3. , 5. , 3. ])"
      ]
     },
     "execution_count": 18,
     "metadata": {},
     "output_type": "execute_result"
    }
   ],
   "source": [
    "arr_3 + 2"
   ]
  },
  {
   "cell_type": "code",
   "execution_count": 20,
   "id": "619f67e5",
   "metadata": {},
   "outputs": [
    {
     "data": {
      "text/plain": [
       "array(['1', '1.2', '1', '3', '5.6'], dtype='<U32')"
      ]
     },
     "execution_count": 20,
     "metadata": {},
     "output_type": "execute_result"
    }
   ],
   "source": [
    "arr_3"
   ]
  },
  {
   "cell_type": "code",
   "execution_count": 22,
   "id": "13a21d8c",
   "metadata": {},
   "outputs": [
    {
     "data": {
      "text/plain": [
       "array([1. , 1.2, 1. , 3. , 5.6])"
      ]
     },
     "execution_count": 22,
     "metadata": {},
     "output_type": "execute_result"
    }
   ],
   "source": [
    "arr_3 = arr_3.astype('float')\n",
    "arr_3"
   ]
  },
  {
   "cell_type": "code",
   "execution_count": 23,
   "id": "bcec72d3",
   "metadata": {},
   "outputs": [
    {
     "data": {
      "text/plain": [
       "array([3. , 3.2, 3. , 5. , 7.6])"
      ]
     },
     "execution_count": 23,
     "metadata": {},
     "output_type": "execute_result"
    }
   ],
   "source": [
    "arr_3 + 2"
   ]
  },
  {
   "cell_type": "code",
   "execution_count": 24,
   "id": "cbf20974",
   "metadata": {},
   "outputs": [
    {
     "data": {
      "text/plain": [
       "[1.0, 1.2, 1.0, 3.0, 5.6]"
      ]
     },
     "execution_count": 24,
     "metadata": {},
     "output_type": "execute_result"
    }
   ],
   "source": [
    "arr_3.tolist()"
   ]
  },
  {
   "cell_type": "markdown",
   "id": "750c3907",
   "metadata": {},
   "source": [
    "### Create 1D Array"
   ]
  },
  {
   "cell_type": "code",
   "execution_count": 29,
   "id": "18fdfdfa",
   "metadata": {},
   "outputs": [
    {
     "data": {
      "text/plain": [
       "array(['1', '1.2', '1', '3', '5.6'], dtype='<U32')"
      ]
     },
     "execution_count": 29,
     "metadata": {},
     "output_type": "execute_result"
    }
   ],
   "source": [
    "arr_3 = np.array([1,1.2,1,3,'5.6'])\n",
    "arr_3"
   ]
  },
  {
   "cell_type": "code",
   "execution_count": 30,
   "id": "9e942114",
   "metadata": {},
   "outputs": [
    {
     "data": {
      "text/plain": [
       "1"
      ]
     },
     "execution_count": 30,
     "metadata": {},
     "output_type": "execute_result"
    }
   ],
   "source": [
    "arr_3.ndim"
   ]
  },
  {
   "cell_type": "markdown",
   "id": "53101c5f",
   "metadata": {},
   "source": [
    "### Create 2D Array"
   ]
  },
  {
   "cell_type": "code",
   "execution_count": 26,
   "id": "f5c37519",
   "metadata": {},
   "outputs": [
    {
     "data": {
      "text/plain": [
       "array([[1, 2, 3],\n",
       "       [4, 5, 6],\n",
       "       [7, 8, 9]])"
      ]
     },
     "execution_count": 26,
     "metadata": {},
     "output_type": "execute_result"
    }
   ],
   "source": [
    "arr_4 = np.array([[1,2,3],[4,5,6],[7,8,9]])\n",
    "arr_4"
   ]
  },
  {
   "cell_type": "code",
   "execution_count": 28,
   "id": "1b5713d0",
   "metadata": {},
   "outputs": [
    {
     "data": {
      "text/plain": [
       "numpy.ndarray"
      ]
     },
     "execution_count": 28,
     "metadata": {},
     "output_type": "execute_result"
    }
   ],
   "source": [
    "type(arr_4)"
   ]
  },
  {
   "cell_type": "code",
   "execution_count": 27,
   "id": "e53850c5",
   "metadata": {},
   "outputs": [
    {
     "data": {
      "text/plain": [
       "2"
      ]
     },
     "execution_count": 27,
     "metadata": {},
     "output_type": "execute_result"
    }
   ],
   "source": [
    "arr_4.ndim"
   ]
  },
  {
   "cell_type": "markdown",
   "id": "61ab2748",
   "metadata": {},
   "source": [
    "### Create 3D Array"
   ]
  },
  {
   "cell_type": "code",
   "execution_count": 31,
   "id": "6c576f33",
   "metadata": {},
   "outputs": [
    {
     "data": {
      "text/plain": [
       "array([[[1, 2, 3],\n",
       "        [4, 5, 6],\n",
       "        [7, 8, 9]]])"
      ]
     },
     "execution_count": 31,
     "metadata": {},
     "output_type": "execute_result"
    }
   ],
   "source": [
    "arr_5 = np.array([[[1,2,3],[4,5,6],[7,8,9]]])\n",
    "arr_5"
   ]
  },
  {
   "cell_type": "code",
   "execution_count": 32,
   "id": "8494e7ba",
   "metadata": {},
   "outputs": [
    {
     "data": {
      "text/plain": [
       "3"
      ]
     },
     "execution_count": 32,
     "metadata": {},
     "output_type": "execute_result"
    }
   ],
   "source": [
    "arr_5.ndim"
   ]
  },
  {
   "cell_type": "code",
   "execution_count": 33,
   "id": "245040c9",
   "metadata": {},
   "outputs": [
    {
     "data": {
      "text/plain": [
       "[[[1, 2, 3], [4, 5, 6], [7, 8, 9]]]"
      ]
     },
     "execution_count": 33,
     "metadata": {},
     "output_type": "execute_result"
    }
   ],
   "source": [
    "arr_5.tolist()"
   ]
  },
  {
   "cell_type": "markdown",
   "id": "310c2019",
   "metadata": {},
   "source": [
    "### List Vs Array\n",
    "\n",
    "\n",
    "###### 1. In List we cannot do element-wise operation but in Arrays we can.\n",
    "###### 2. Array to List conversion is possible and also List to Array conversion is also possible but we will lose the dimensions.\n",
    "###### 3. List is heterogenous datatype but Numpy is a homogenous datatype."
   ]
  },
  {
   "cell_type": "markdown",
   "id": "3e44b077",
   "metadata": {},
   "source": [
    "### Create Nan using numpy"
   ]
  },
  {
   "cell_type": "code",
   "execution_count": 34,
   "id": "81ae9c0f",
   "metadata": {},
   "outputs": [
    {
     "data": {
      "text/plain": [
       "array([[1., 2., 3.],\n",
       "       [4., 5., 6.]])"
      ]
     },
     "execution_count": 34,
     "metadata": {},
     "output_type": "execute_result"
    }
   ],
   "source": [
    "arr = np.array([[1.,2,3],[4,5,6]])\n",
    "arr"
   ]
  },
  {
   "cell_type": "code",
   "execution_count": 39,
   "id": "c1e4da9b",
   "metadata": {},
   "outputs": [],
   "source": [
    "arr[0][1] = np.nan"
   ]
  },
  {
   "cell_type": "code",
   "execution_count": 40,
   "id": "131ed523",
   "metadata": {},
   "outputs": [
    {
     "data": {
      "text/plain": [
       "array([[ 1., nan,  3.],\n",
       "       [ 4.,  5.,  6.]])"
      ]
     },
     "execution_count": 40,
     "metadata": {},
     "output_type": "execute_result"
    }
   ],
   "source": [
    "arr"
   ]
  },
  {
   "cell_type": "markdown",
   "id": "1cf9f3db",
   "metadata": {},
   "source": [
    "## Statistical Operations with numpy"
   ]
  },
  {
   "cell_type": "code",
   "execution_count": 41,
   "id": "645005d4",
   "metadata": {},
   "outputs": [
    {
     "data": {
      "text/plain": [
       "array([ 1,  2,  3,  4,  5,  6,  7,  8,  9, 10])"
      ]
     },
     "execution_count": 41,
     "metadata": {},
     "output_type": "execute_result"
    }
   ],
   "source": [
    "arr_6 = np.array([1,2,3,4,5,6,7,8,9,10])\n",
    "arr_6"
   ]
  },
  {
   "cell_type": "code",
   "execution_count": 42,
   "id": "74fae036",
   "metadata": {},
   "outputs": [
    {
     "data": {
      "text/plain": [
       "3628800"
      ]
     },
     "execution_count": 42,
     "metadata": {},
     "output_type": "execute_result"
    }
   ],
   "source": [
    "arr_6.prod()"
   ]
  },
  {
   "cell_type": "code",
   "execution_count": 43,
   "id": "1eab643e",
   "metadata": {},
   "outputs": [
    {
     "data": {
      "text/plain": [
       "55"
      ]
     },
     "execution_count": 43,
     "metadata": {},
     "output_type": "execute_result"
    }
   ],
   "source": [
    "arr_6.sum()"
   ]
  },
  {
   "cell_type": "code",
   "execution_count": 44,
   "id": "df829080",
   "metadata": {},
   "outputs": [
    {
     "data": {
      "text/plain": [
       "5.5"
      ]
     },
     "execution_count": 44,
     "metadata": {},
     "output_type": "execute_result"
    }
   ],
   "source": [
    "arr_6.mean()"
   ]
  },
  {
   "cell_type": "code",
   "execution_count": 45,
   "id": "7700144a",
   "metadata": {},
   "outputs": [
    {
     "data": {
      "text/plain": [
       "2.8722813232690143"
      ]
     },
     "execution_count": 45,
     "metadata": {},
     "output_type": "execute_result"
    }
   ],
   "source": [
    "arr_6.std()"
   ]
  },
  {
   "cell_type": "code",
   "execution_count": 46,
   "id": "8e556a38",
   "metadata": {},
   "outputs": [
    {
     "data": {
      "text/plain": [
       "9"
      ]
     },
     "execution_count": 46,
     "metadata": {},
     "output_type": "execute_result"
    }
   ],
   "source": [
    "arr_6.argmax()"
   ]
  },
  {
   "cell_type": "code",
   "execution_count": 47,
   "id": "eab95ee2",
   "metadata": {},
   "outputs": [
    {
     "data": {
      "text/plain": [
       "10"
      ]
     },
     "execution_count": 47,
     "metadata": {},
     "output_type": "execute_result"
    }
   ],
   "source": [
    "arr_6.max()"
   ]
  },
  {
   "cell_type": "code",
   "execution_count": 48,
   "id": "a376da7e",
   "metadata": {},
   "outputs": [
    {
     "data": {
      "text/plain": [
       "1"
      ]
     },
     "execution_count": 48,
     "metadata": {},
     "output_type": "execute_result"
    }
   ],
   "source": [
    "arr_6.min()"
   ]
  },
  {
   "cell_type": "markdown",
   "id": "aa308ac5",
   "metadata": {},
   "source": [
    "## Reshaping an Array"
   ]
  },
  {
   "cell_type": "code",
   "execution_count": 49,
   "id": "48eaa79a",
   "metadata": {},
   "outputs": [
    {
     "data": {
      "text/plain": [
       "array([[[1, 2, 3],\n",
       "        [4, 5, 6],\n",
       "        [7, 8, 9]]])"
      ]
     },
     "execution_count": 49,
     "metadata": {},
     "output_type": "execute_result"
    }
   ],
   "source": [
    "arr_5"
   ]
  },
  {
   "cell_type": "code",
   "execution_count": 50,
   "id": "450a0adb",
   "metadata": {},
   "outputs": [
    {
     "data": {
      "text/plain": [
       "3"
      ]
     },
     "execution_count": 50,
     "metadata": {},
     "output_type": "execute_result"
    }
   ],
   "source": [
    "arr_5.ndim"
   ]
  },
  {
   "cell_type": "code",
   "execution_count": 58,
   "id": "99851392",
   "metadata": {},
   "outputs": [
    {
     "data": {
      "text/plain": [
       "array([[[1, 2, 3],\n",
       "        [4, 5, 6],\n",
       "        [7, 8, 9]]])"
      ]
     },
     "execution_count": 58,
     "metadata": {},
     "output_type": "execute_result"
    }
   ],
   "source": [
    "arr_5 = np.array([[[1,2,3],[4,5,6],[7,8,9]]])\n",
    "arr_5"
   ]
  },
  {
   "cell_type": "code",
   "execution_count": 59,
   "id": "dad2c36e",
   "metadata": {},
   "outputs": [
    {
     "data": {
      "text/plain": [
       "3"
      ]
     },
     "execution_count": 59,
     "metadata": {},
     "output_type": "execute_result"
    }
   ],
   "source": [
    "arr_5.ndim"
   ]
  },
  {
   "cell_type": "code",
   "execution_count": 60,
   "id": "d9e1b274",
   "metadata": {},
   "outputs": [],
   "source": [
    "arr_5 = np.reshape(a = arr_5,newshape = (1,9))"
   ]
  },
  {
   "cell_type": "code",
   "execution_count": 61,
   "id": "98f18af0",
   "metadata": {},
   "outputs": [
    {
     "data": {
      "text/plain": [
       "array([[1, 2, 3, 4, 5, 6, 7, 8, 9]])"
      ]
     },
     "execution_count": 61,
     "metadata": {},
     "output_type": "execute_result"
    }
   ],
   "source": [
    "arr_5"
   ]
  },
  {
   "cell_type": "code",
   "execution_count": 62,
   "id": "aecebb87",
   "metadata": {},
   "outputs": [
    {
     "data": {
      "text/plain": [
       "2"
      ]
     },
     "execution_count": 62,
     "metadata": {},
     "output_type": "execute_result"
    }
   ],
   "source": [
    "arr_5.ndim"
   ]
  },
  {
   "cell_type": "markdown",
   "id": "2320bd56",
   "metadata": {},
   "source": [
    "### Convert ndim to 1D"
   ]
  },
  {
   "cell_type": "code",
   "execution_count": 63,
   "id": "3fd4db2f",
   "metadata": {},
   "outputs": [
    {
     "data": {
      "text/plain": [
       "array([[[1, 2, 3],\n",
       "        [4, 5, 6],\n",
       "        [7, 8, 9]]])"
      ]
     },
     "execution_count": 63,
     "metadata": {},
     "output_type": "execute_result"
    }
   ],
   "source": [
    "arr_5 = np.array([[[1,2,3],[4,5,6],[7,8,9]]])\n",
    "arr_5"
   ]
  },
  {
   "cell_type": "code",
   "execution_count": 64,
   "id": "2dcc4d70",
   "metadata": {},
   "outputs": [
    {
     "data": {
      "text/plain": [
       "3"
      ]
     },
     "execution_count": 64,
     "metadata": {},
     "output_type": "execute_result"
    }
   ],
   "source": [
    "arr_5.ndim"
   ]
  },
  {
   "cell_type": "code",
   "execution_count": 66,
   "id": "b331259e",
   "metadata": {},
   "outputs": [
    {
     "data": {
      "text/plain": [
       "array([1, 2, 3, 4, 5, 6, 7, 8, 9])"
      ]
     },
     "execution_count": 66,
     "metadata": {},
     "output_type": "execute_result"
    }
   ],
   "source": [
    "arr_5 = arr_5.flatten()\n",
    "arr_5"
   ]
  },
  {
   "cell_type": "code",
   "execution_count": 67,
   "id": "c6f345d0",
   "metadata": {},
   "outputs": [
    {
     "data": {
      "text/plain": [
       "1"
      ]
     },
     "execution_count": 67,
     "metadata": {},
     "output_type": "execute_result"
    }
   ],
   "source": [
    "arr_5.ndim"
   ]
  },
  {
   "cell_type": "markdown",
   "id": "330a2c26",
   "metadata": {},
   "source": [
    "### Get duplicate entries"
   ]
  },
  {
   "cell_type": "code",
   "execution_count": 73,
   "id": "9ccd8d39",
   "metadata": {},
   "outputs": [
    {
     "data": {
      "text/plain": [
       "array([[[1, 2, 3],\n",
       "        [4, 5, 6],\n",
       "        [7, 8, 9]]])"
      ]
     },
     "execution_count": 73,
     "metadata": {},
     "output_type": "execute_result"
    }
   ],
   "source": [
    "arr_5 = np.array([[[1,2,3],[4,5,6],[7,8,9]]])\n",
    "arr_5"
   ]
  },
  {
   "cell_type": "code",
   "execution_count": 71,
   "id": "5717a4b1",
   "metadata": {},
   "outputs": [
    {
     "data": {
      "text/plain": [
       "array([[[1, 2, 3],\n",
       "        [4, 5, 6],\n",
       "        [7, 8, 9]],\n",
       "\n",
       "       [[1, 2, 3],\n",
       "        [4, 5, 6],\n",
       "        [7, 8, 9]],\n",
       "\n",
       "       [[1, 2, 3],\n",
       "        [4, 5, 6],\n",
       "        [7, 8, 9]],\n",
       "\n",
       "       [[1, 2, 3],\n",
       "        [4, 5, 6],\n",
       "        [7, 8, 9]],\n",
       "\n",
       "       [[1, 2, 3],\n",
       "        [4, 5, 6],\n",
       "        [7, 8, 9]]])"
      ]
     },
     "execution_count": 71,
     "metadata": {},
     "output_type": "execute_result"
    }
   ],
   "source": [
    "np.repeat(arr_5,repeats = 5,axis=0)"
   ]
  },
  {
   "cell_type": "markdown",
   "id": "589dd971",
   "metadata": {},
   "source": [
    "### Sequencing and Random Numbers"
   ]
  },
  {
   "cell_type": "code",
   "execution_count": 74,
   "id": "d8e40b29",
   "metadata": {},
   "outputs": [
    {
     "data": {
      "text/plain": [
       "array([ 1,  2,  3,  4,  5,  6,  7,  8,  9, 10])"
      ]
     },
     "execution_count": 74,
     "metadata": {},
     "output_type": "execute_result"
    }
   ],
   "source": [
    "np.arange(1,11)"
   ]
  },
  {
   "cell_type": "code",
   "execution_count": 75,
   "id": "86e551ef",
   "metadata": {},
   "outputs": [
    {
     "data": {
      "text/plain": [
       "array([  1.        ,   3.02040816,   5.04081633,   7.06122449,\n",
       "         9.08163265,  11.10204082,  13.12244898,  15.14285714,\n",
       "        17.16326531,  19.18367347,  21.20408163,  23.2244898 ,\n",
       "        25.24489796,  27.26530612,  29.28571429,  31.30612245,\n",
       "        33.32653061,  35.34693878,  37.36734694,  39.3877551 ,\n",
       "        41.40816327,  43.42857143,  45.44897959,  47.46938776,\n",
       "        49.48979592,  51.51020408,  53.53061224,  55.55102041,\n",
       "        57.57142857,  59.59183673,  61.6122449 ,  63.63265306,\n",
       "        65.65306122,  67.67346939,  69.69387755,  71.71428571,\n",
       "        73.73469388,  75.75510204,  77.7755102 ,  79.79591837,\n",
       "        81.81632653,  83.83673469,  85.85714286,  87.87755102,\n",
       "        89.89795918,  91.91836735,  93.93877551,  95.95918367,\n",
       "        97.97959184, 100.        ])"
      ]
     },
     "execution_count": 75,
     "metadata": {},
     "output_type": "execute_result"
    }
   ],
   "source": [
    "np.linspace(start = 1,stop = 100,num=50)"
   ]
  },
  {
   "cell_type": "code",
   "execution_count": 80,
   "id": "16976c62",
   "metadata": {},
   "outputs": [
    {
     "data": {
      "text/plain": [
       "array([[0.42, 0.16, 0.65, 0.75, 0.28, 0.22, 0.09, 0.68, 0.47, 0.93],\n",
       "       [0.5 , 0.45, 0.45, 0.89, 0.05, 0.62, 0.09, 0.89, 0.79, 0.38],\n",
       "       [0.54, 0.79, 0.1 , 0.29, 0.73, 0.12, 0.42, 0.12, 0.77, 0.79],\n",
       "       [0.06, 0.89, 0.27, 0.11, 0.19, 0.69, 0.61, 0.7 , 0.88, 0.72],\n",
       "       [0.46, 0.38, 0.36, 0.28, 0.9 , 0.88, 0.54, 0.85, 0.47, 0.85],\n",
       "       [0.51, 0.17, 0.83, 0.84, 0.72, 0.58, 0.97, 0.42, 0.77, 0.04],\n",
       "       [0.13, 0.93, 0.25, 0.7 , 0.81, 0.99, 0.09, 0.12, 0.58, 0.38],\n",
       "       [0.54, 0.05, 0.62, 0.59, 0.91, 0.02, 0.39, 0.76, 0.32, 0.29],\n",
       "       [0.56, 0.05, 0.25, 0.24, 0.15, 0.16, 0.93, 0.05, 0.87, 0.49],\n",
       "       [0.16, 0.37, 0.2 , 0.84, 0.97, 0.28, 0.38, 0.54, 0.93, 0.39]])"
      ]
     },
     "execution_count": 80,
     "metadata": {},
     "output_type": "execute_result"
    }
   ],
   "source": [
    "random_numbers_uniform_distribtion = np.random.rand(10,10).round(2)\n",
    "random_numbers_uniform_distribtion "
   ]
  },
  {
   "cell_type": "code",
   "execution_count": 83,
   "id": "96e0cd07",
   "metadata": {},
   "outputs": [
    {
     "data": {
      "image/png": "[encoded data removed]",
      "text/plain": [
       "<Figure size 432x288 with 1 Axes>"
      ]
     },
     "metadata": {
      "needs_background": "light"
     },
     "output_type": "display_data"
    }
   ],
   "source": [
    "import matplotlib.pyplot as plt\n",
    "plt.hist(random_numbers_uniform_distribtion)\n",
    "plt.show()"
   ]
  },
  {
   "cell_type": "code",
   "execution_count": 101,
   "id": "aa894955",
   "metadata": {},
   "outputs": [
    {
     "data": {
      "text/plain": [
       "array([[-2.04707659e-01,  4.78943338e-01, -5.19438715e-01,\n",
       "        -5.55730304e-01,  1.96578057e+00,  1.39340583e+00,\n",
       "         9.29078767e-02,  2.81746153e-01,  7.69022568e-01,\n",
       "         1.24643474e+00],\n",
       "       [ 1.00718936e+00, -1.29622111e+00,  2.74991633e-01,\n",
       "         2.28912879e-01,  1.35291684e+00,  8.86429341e-01,\n",
       "        -2.00163731e+00, -3.71842537e-01,  1.66902531e+00,\n",
       "        -4.38569736e-01],\n",
       "       [-5.39741446e-01,  4.76985010e-01,  3.24894392e+00,\n",
       "        -1.02122752e+00, -5.77087303e-01,  1.24121276e-01,\n",
       "         3.02613562e-01,  5.23772068e-01,  9.40277775e-04,\n",
       "         1.34380979e+00],\n",
       "       [-7.13543985e-01, -8.31153539e-01, -2.37023165e+00,\n",
       "        -1.86076079e+00, -8.60757398e-01,  5.60145293e-01,\n",
       "        -1.26593449e+00,  1.19827125e-01, -1.06351245e+00,\n",
       "         3.32882716e-01],\n",
       "       [-2.35941881e+00, -1.99542955e-01, -1.54199553e+00,\n",
       "        -9.70735912e-01, -1.30703025e+00,  2.86349747e-01,\n",
       "         3.77984111e-01, -7.53886535e-01,  3.31285650e-01,\n",
       "         1.34974221e+00],\n",
       "       [ 6.98766888e-02,  2.46674110e-01, -1.18616011e-02,\n",
       "         1.00481159e+00,  1.32719461e+00, -9.19261558e-01,\n",
       "        -1.54910644e+00,  2.21845987e-02,  7.58363145e-01,\n",
       "        -6.60524328e-01],\n",
       "       [ 8.62580083e-01, -1.00319021e-02,  5.00093559e-02,\n",
       "         6.70215594e-01,  8.52965032e-01, -9.55868852e-01,\n",
       "        -2.34933207e-02, -2.30423388e+00, -6.52468841e-01,\n",
       "        -1.21830198e+00],\n",
       "       [-1.33260971e+00,  1.07462269e+00,  7.23641505e-01,\n",
       "         6.90001853e-01,  1.00154344e+00, -5.03087391e-01,\n",
       "        -6.22274225e-01, -9.21168608e-01, -7.26213493e-01,\n",
       "         2.22895546e-01],\n",
       "       [ 5.13161009e-02, -1.15771947e+00,  8.16706936e-01,\n",
       "         4.33609606e-01,  1.01073695e+00,  1.82487521e+00,\n",
       "        -9.97518248e-01,  8.50591099e-01, -1.31577601e-01,\n",
       "         9.12414152e-01],\n",
       "       [ 1.88210680e-01,  2.16946144e+00, -1.14928205e-01,\n",
       "         2.00369736e+00,  2.96101523e-02,  7.95253156e-01,\n",
       "         1.18109754e-01, -7.48531548e-01,  5.84969738e-01,\n",
       "         1.52676573e-01]])"
      ]
     },
     "execution_count": 101,
     "metadata": {},
     "output_type": "execute_result"
    }
   ],
   "source": [
    "np.random.seed(12345)\n",
    "\n",
    "random_numbers_norm_distribution = np.random.randn(10,10)\n",
    "random_numbers_norm_distribution"
   ]
  },
  {
   "cell_type": "code",
   "execution_count": 102,
   "id": "7dc6c16e",
   "metadata": {},
   "outputs": [
    {
     "data": {
      "image/png": "[encoded data removed]",
      "text/plain": [
       "<Figure size 432x288 with 1 Axes>"
      ]
     },
     "metadata": {
      "needs_background": "light"
     },
     "output_type": "display_data"
    }
   ],
   "source": [
    "plt.hist(random_numbers_norm_distribution)\n",
    "plt.show()"
   ]
  },
  {
   "cell_type": "markdown",
   "id": "7e42259a",
   "metadata": {},
   "source": [
    "### NORMAL DISTRIBUTION\n",
    "\n",
    "It follows an empirical rule:\n",
    "\n",
    "* 68% of the datapoints should fall between 1SD.(ie, -1SD to +1SD)\n",
    "* 95% of the datapoints should fall between 2SD.(ie, -2SD to +2SD)\n",
    "* 99.99% of the datapoints should fall between 3SD(ie, -3SD to +3SD)\n",
    "\n",
    "Remaining points are Outliers."
   ]
  },
  {
   "cell_type": "markdown",
   "id": "36ab10d6",
   "metadata": {},
   "source": [
    "#### Explore \n",
    "\n",
    "* Numpy  - 'where' function, \n",
    "* Pandas - to_numeric function."
   ]
  },
  {
   "cell_type": "code",
   "execution_count": null,
   "id": "2f3f76c8",
   "metadata": {},
   "outputs": [],
   "source": [
    "np.where()"
   ]
  },
  {
   "cell_type": "markdown",
   "id": "eaf6366c",
   "metadata": {},
   "source": [
    "# THE END!!"
   ]
  }
 ],
 "metadata": {
  "kernelspec": {
   "display_name": "Python 3",
   "language": "python",
   "name": "python3"
  },
  "language_info": {
   "codemirror_mode": {
    "name": "ipython",
    "version": 3
   },
   "file_extension": ".py",
   "mimetype": "text/x-python",
   "name": "python",
   "nbconvert_exporter": "python",
   "pygments_lexer": "ipython3",
   "version": "3.8.8"
  }
 },
 "nbformat": 4,
 "nbformat_minor": 5
}
